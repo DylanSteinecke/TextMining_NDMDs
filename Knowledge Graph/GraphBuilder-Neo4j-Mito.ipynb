{
 "cells": [
  {
   "cell_type": "markdown",
   "metadata": {},
   "source": [
    "There are 3 main sections here: 1) Creating the Neo4j Knowledge Graph, 2) Visualizing Selected Common Pathways in Neo4j 3) Visualizing Selected Common Pathways in Python"
   ]
  },
  {
   "cell_type": "code",
   "execution_count": 3,
   "metadata": {},
   "outputs": [],
   "source": [
    "import json \n",
    "import pandas as pd\n",
    "import seaborn as sns"
   ]
  },
  {
   "cell_type": "markdown",
   "metadata": {},
   "source": [
    "# 1) Creating the Neo4j Knowledge Graph\n",
    "Neo4j commands, not Python"
   ]
  },
  {
   "cell_type": "markdown",
   "metadata": {},
   "source": [
    "### Neo4j Implemetation"
   ]
  },
  {
   "cell_type": "code",
   "execution_count": null,
   "metadata": {},
   "outputs": [],
   "source": [
    "CREATE CONSTRAINT UniqueProteinIdConstraint ON (p:Protein) ASSERT p.id IS UNIQUE;\n",
    "CREATE CONSTRAINT UniquePathwayIdConstraint ON (pw:Pathway) ASSERT pw.id IS UNIQUE;"
   ]
  },
  {
   "cell_type": "markdown",
   "metadata": {},
   "source": [
    "### Creating: Protein Nodes"
   ]
  },
  {
   "cell_type": "code",
   "execution_count": null,
   "metadata": {},
   "outputs": [],
   "source": [
    "LOAD CSV WITH HEADERS FROM 'file:///protein-nodes.csv' as row\n",
    "MERGE (p:Protein {id:row.ID})\n",
    "ON CREATE SET\n",
    "p.name = row.name,\n",
    "p.synonyms = row.synonyms, \n",
    "p.LHON = row.LHON,\n",
    "p.MELAS = row.MELAS,\n",
    "p.ADOA = row.ADOA,\n",
    "p.Leigh = row.Leigh,\n",
    "p.MERRF = row.MERRF,\n",
    "p.KSS = row.KSS,\n",
    "p.Alpers = row.Alpers,\n",
    "p.LBSL = row.LBSL,\n",
    "p.PDD = row.PDD,\n",
    "p.PEO = row.PEO,\n",
    "p.MS = row.MS,\n",
    "p.Parkin = row.Parkin,\n",
    "p.ALS = row.ALS,\n",
    "p.AD = row.AD,\n",
    "p.Epil = row.Epil,\n",
    "p.Schiz = row.Schiz,\n",
    "p.FA = row.FA,\n",
    "p.HSP = row.HSP,\n",
    "p.WD = row.WD"
   ]
  },
  {
   "cell_type": "markdown",
   "metadata": {},
   "source": [
    "### Creating: Pathway to Proteins"
   ]
  },
  {
   "cell_type": "code",
   "execution_count": null,
   "metadata": {},
   "outputs": [],
   "source": [
    "LOAD CSV WITH HEADERS FROM\n",
    "  'file:///pw2proteins.csv' as row\n",
    "MERGE (pw:Pathway {id:row.ID})\n",
    "     ON CREATE SET\n",
    "         pw.name = row.name"
   ]
  },
  {
   "cell_type": "code",
   "execution_count": null,
   "metadata": {},
   "outputs": [],
   "source": [
    "LOAD CSV WITH HEADERS FROM\n",
    "   'file:///pw2proteins.csv' as row\n",
    "MATCH (pw:Pathway{id:row.ID})\n",
    "MATCH (p:Protein{id:row.protein})\n",
    "MERGE (pw)-[:INVOLVES]->(p)"
   ]
  },
  {
   "cell_type": "markdown",
   "metadata": {},
   "source": [
    "### Creating: Proteins --(INTERACTS_WITH)--> Protein"
   ]
  },
  {
   "cell_type": "code",
   "execution_count": null,
   "metadata": {},
   "outputs": [],
   "source": [
    "LOAD CSV WITH HEADERS FROM\n",
    "    'file:///proteins2proteins.csv' as row\n",
    "MATCH (P:Protein{id:row.Protein})\n",
    "MATCH (p:Protein{id:row.Interacts})\n",
    "MERGE (P)-[:INTERACTS_WITH]->(p)\n",
    "\n",
    "# FILE: \n",
    "# Interact 2nd col \"ID\", Interact 2nd col \"name\", Interact 1st col \"protein\""
   ]
  },
  {
   "cell_type": "markdown",
   "metadata": {},
   "source": [
    "--------"
   ]
  },
  {
   "cell_type": "markdown",
   "metadata": {},
   "source": [
    "- Visualize the schema"
   ]
  },
  {
   "cell_type": "code",
   "execution_count": null,
   "metadata": {},
   "outputs": [],
   "source": [
    "CALL db.schema.visualization"
   ]
  },
  {
   "cell_type": "markdown",
   "metadata": {},
   "source": [
    "# 2) Neo4j: Identifying Protein-Pathway Relationships"
   ]
  },
  {
   "cell_type": "markdown",
   "metadata": {},
   "source": [
    "#### Cluster 1 (LHON)"
   ]
  },
  {
   "cell_type": "code",
   "execution_count": null,
   "metadata": {},
   "outputs": [],
   "source": [
    "MATCH path = (p1:Protein)--(pw:Pathway)--(p2:Protein)  \n",
    "WHERE p1.id in ['Q16611','O60238','Q9H300','Q9NX14','P03901','P03886','P03905','P03923','Q9Y2Z4','Q8WWV3','Q8NBN7','P49590','Q9HD33','O75600','P03915','Q16795'] \n",
    "AND p2.id in ['Q16611','O60238','Q9H300','Q9NX14','P03901','P03886','P03905','P03923','Q9Y2Z4','Q8WWV3','Q8NBN7','P49590','Q9HD33','O75600','P03915','Q16795']\n",
    "RETURN path LIMIT 1000"
   ]
  },
  {
   "cell_type": "markdown",
   "metadata": {},
   "source": [
    "### Cluster 2 All diseases except LBSL, PDD (1-3); MELAS, Leigh, MS, AD, KSS (1-4)"
   ]
  },
  {
   "cell_type": "code",
   "execution_count": null,
   "metadata": {},
   "outputs": [],
   "source": [
    "MATCH path = (p1:Protein)--(pw:Pathway)--(p2:Protein)  \n",
    "WHERE p1.id in ['P20674','P10176','P36551','P00414']\n",
    "AND p2.id in ['P20674','P10176','P36551','P00414']\n",
    "RETURN path LIMIT 1000"
   ]
  },
  {
   "cell_type": "markdown",
   "metadata": {},
   "source": [
    "### Cluster 3 ADOA (all 5); LHON, Leigh, MS, HSP (1 & 3); PEO, Parkin, ALS, AD, Epil (3), Schiz (2,3), WD (2)  (CLUSTER)"
   ]
  },
  {
   "cell_type": "code",
   "execution_count": null,
   "metadata": {},
   "outputs": [],
   "source": [
    "MATCH path = (p1:Protein)--(pw:Pathway)--(p2:Protein)  \n",
    "WHERE p1.id in ['Q9H6K4','Q04837','O60313','O43169','Q9H061']\n",
    "AND p2.id in ['Q9H6K4','Q04837','O60313','O43169','Q9H061']\n",
    "RETURN path LIMIT 1000"
   ]
  },
  {
   "cell_type": "markdown",
   "metadata": {},
   "source": [
    "### Cluster 4 KSS (all 8); MELAS, Leigh, PEO (1, 6-8), ; (Weaker cluster)"
   ]
  },
  {
   "cell_type": "code",
   "execution_count": null,
   "metadata": {},
   "outputs": [],
   "source": [
    "MATCH path = (p1:Protein)--(pw:Pathway)--(p2:Protein)  \n",
    "WHERE p1.id in ['P00156','Q9H0U6','O95168','P12694','Q8NI60','P31040','P21912','Q9UDR5']\n",
    "AND p2.id in ['P00156','Q9H0U6','O95168','P12694','Q8NI60','P31040','P21912','Q9UDR5']\n",
    "RETURN path LIMIT 1000"
   ]
  },
  {
   "cell_type": "markdown",
   "metadata": {},
   "source": [
    "### Cluster 5 \n",
    "A large swath of similarity for MS, Parkin, ALS, AD, Epil, Schiz across a wide array of mitochondrial proteins. In the spots where there are zero CaseOLAP scores in one disease this section but not in the others, this may indicate that the protein is but has not yet been discovered to be relevant to this disease process. (Proteins in rows 147-333)\n",
    "One of the highest scoring clustered proteins here are below (highest in AD and Parkin)."
   ]
  },
  {
   "cell_type": "code",
   "execution_count": null,
   "metadata": {},
   "outputs": [],
   "source": [
    "MATCH path = (p1:Protein)--(pw:Pathway)--(p2:Protein)  \n",
    "WHERE p1.id in ['P10415','Q07812','Q9Y2S7','P42574']\n",
    "AND p2.id in ['P10415','Q07812','Q9Y2S7','P42574']\n",
    "RETURN path LIMIT 1000"
   ]
  },
  {
   "cell_type": "markdown",
   "metadata": {},
   "source": [
    "### Cluster 6\n",
    "Schiz, Epil, AD (all), Parkin (last 3) (strongish cluster)"
   ]
  },
  {
   "cell_type": "code",
   "execution_count": null,
   "metadata": {},
   "outputs": [],
   "source": [
    "MATCH path = (p1:Protein)--(pw:Pathway)--(p2:Protein)  \n",
    "WHERE p1.id in ['Q8IVH4','Q9UF12','Q8N3J5','O43272','O15229','Q13423','Q8WUD6']\n",
    "AND p2.id in ['Q8IVH4','Q9UF12','Q8N3J5','O43272','O15229','Q13423','Q8WUD6']\n",
    "RETURN path LIMIT 1000"
   ]
  },
  {
   "cell_type": "markdown",
   "metadata": {},
   "source": [
    "--------"
   ]
  },
  {
   "cell_type": "markdown",
   "metadata": {},
   "source": [
    "# 3) Python: Identifying Protein-Pathway Relationships"
   ]
  },
  {
   "cell_type": "code",
   "execution_count": 4,
   "metadata": {},
   "outputs": [
    {
     "data": {
      "text/html": [
       "<div>\n",
       "<style scoped>\n",
       "    .dataframe tbody tr th:only-of-type {\n",
       "        vertical-align: middle;\n",
       "    }\n",
       "\n",
       "    .dataframe tbody tr th {\n",
       "        vertical-align: top;\n",
       "    }\n",
       "\n",
       "    .dataframe thead th {\n",
       "        text-align: right;\n",
       "    }\n",
       "</style>\n",
       "<table border=\"1\" class=\"dataframe\">\n",
       "  <thead>\n",
       "    <tr style=\"text-align: right;\">\n",
       "      <th></th>\n",
       "      <th>Unnamed: 0</th>\n",
       "      <th>num</th>\n",
       "      <th>ID</th>\n",
       "      <th>name</th>\n",
       "      <th>protein</th>\n",
       "    </tr>\n",
       "  </thead>\n",
       "  <tbody>\n",
       "    <tr>\n",
       "      <th>0</th>\n",
       "      <td>0</td>\n",
       "      <td>0</td>\n",
       "      <td>R-HSA-1268020</td>\n",
       "      <td>Mitochondrial protein import</td>\n",
       "      <td>O75746</td>\n",
       "    </tr>\n",
       "    <tr>\n",
       "      <th>1</th>\n",
       "      <td>1</td>\n",
       "      <td>1</td>\n",
       "      <td>R-HSA-1268020</td>\n",
       "      <td>Mitochondrial protein import</td>\n",
       "      <td>Q96H96</td>\n",
       "    </tr>\n",
       "    <tr>\n",
       "      <th>2</th>\n",
       "      <td>2</td>\n",
       "      <td>2</td>\n",
       "      <td>R-HSA-1268020</td>\n",
       "      <td>Mitochondrial protein import</td>\n",
       "      <td>Q9Y584</td>\n",
       "    </tr>\n",
       "    <tr>\n",
       "      <th>3</th>\n",
       "      <td>3</td>\n",
       "      <td>3</td>\n",
       "      <td>R-HSA-1268020</td>\n",
       "      <td>Mitochondrial protein import</td>\n",
       "      <td>P56277</td>\n",
       "    </tr>\n",
       "    <tr>\n",
       "      <th>4</th>\n",
       "      <td>4</td>\n",
       "      <td>4</td>\n",
       "      <td>R-HSA-1268020</td>\n",
       "      <td>Mitochondrial protein import</td>\n",
       "      <td>Q9BVV7</td>\n",
       "    </tr>\n",
       "  </tbody>\n",
       "</table>\n",
       "</div>"
      ],
      "text/plain": [
       "   Unnamed: 0  num             ID                          name protein\n",
       "0           0    0  R-HSA-1268020  Mitochondrial protein import  O75746\n",
       "1           1    1  R-HSA-1268020  Mitochondrial protein import  Q96H96\n",
       "2           2    2  R-HSA-1268020  Mitochondrial protein import  Q9Y584\n",
       "3           3    3  R-HSA-1268020  Mitochondrial protein import  P56277\n",
       "4           4    4  R-HSA-1268020  Mitochondrial protein import  Q9BVV7"
      ]
     },
     "execution_count": 4,
     "metadata": {},
     "output_type": "execute_result"
    }
   ],
   "source": [
    "pathways = pd.read_csv('data/pw2proteins.csv')\n",
    "pathways.head()"
   ]
  },
  {
   "cell_type": "markdown",
   "metadata": {},
   "source": [
    "#### Cluster 1 (LHON)"
   ]
  },
  {
   "cell_type": "code",
   "execution_count": 24,
   "metadata": {},
   "outputs": [
    {
     "data": {
      "image/png": "[encoded data removed]",
      "text/plain": [
       "<Figure size 432x288 with 2 Axes>"
      ]
     },
     "metadata": {},
     "output_type": "display_data"
    }
   ],
   "source": [
    "# LHON cluster\n",
    "cluster1 = ['Q16611','O60238','Q9H300','Q9NX14','P03901','P03886','P03905','P03923','Q9Y2Z4','Q8WWV3','Q8NBN7','P49590','Q9HD33','O75600','P03915','Q16795']\n",
    "pathway_cluster1 = {}\n",
    "\n",
    "#or find a way to return all the indices where a protein exists\n",
    "\n",
    "for ID in cluster1:\n",
    "    pw_list = []\n",
    "    for i in range(0,len(pathways)):\n",
    "        if(ID == pathways['protein'][i]):\n",
    "            pw_list.append(pathways['name'][i])\n",
    "    pathway_cluster1[ID] = pw_list\n",
    "\n",
    "#OUTPUT: pathway_cluster1 is a dictionary of ProteinID:[pathway,...]\n",
    "\n",
    "common_pathway_cluster1 = {}  #Stores ProteinID:[common pathway shared by 1+ other protein,...]\n",
    "all_common_pathways1 = set()  #Set of all pathways among all proteins\n",
    "\n",
    "for ID,pws in pathway_cluster1.items():\n",
    "    \n",
    "    # Collect pathways of all other proteins\n",
    "    other_pws = set()\n",
    "    for ID2,pws2 in pathway_cluster1.items():\n",
    "        if(ID2 != ID):\n",
    "            for pw2 in pws2:\n",
    "                other_pws.add(pw2)\n",
    "    \n",
    "    # Find the pathways shared between current protein and 1+ other protein(s)\n",
    "    common_pws = []\n",
    "    for pw in pws:\n",
    "        if(pw in other_pws):\n",
    "            common_pws.append(pw)\n",
    "    common_pathway_cluster1[ID] = set(common_pws)\n",
    "\n",
    "    # Add to a set of any pathway that involves at least 2 of these proteins\n",
    "    all_common_pathways1 = all_common_pathways1.union(set(common_pws))         \n",
    "\n",
    "\n",
    "# Make the dataframe and plot it as a binary heatmap \n",
    "df1 = pd.DataFrame(columns = list(all_common_pathways1))\n",
    "#df1.rename(columns = {'Respiratory electron transport, ATP synthesis by chemiosmotic coupling, and heat production by uncoupling proteins.': 'RET, ATP syn by CC, HP by UP','The citric acid (TCA) cycle and respiratory electron transport': 'TCA and RET','Mitochondrial tRNA aminoacylation': 'Mito. tRNA aminoacylation'}, inplace = True)\n",
    "for ID,PWS in pathway_cluster1.items():\n",
    "    row = {}    \n",
    "    for pw in df1.columns:\n",
    "        if(pw in PWS): row.update({pw: 1.0})\n",
    "        else: row.update({pw: 0.0})\n",
    "    df1 = df1.append(row, ignore_index = True)\n",
    "df1\n",
    "df1.index = pathway_cluster1\n",
    "hm = sns.heatmap(df1, cmap = 'Reds', linewidths=.1, linecolor='black')"
   ]
  },
  {
   "cell_type": "code",
   "execution_count": 14,
   "metadata": {
    "scrolled": true
   },
   "outputs": [
    {
     "data": {
      "text/plain": [
       "{'O60238': set(),\n",
       " 'O75600': {'Metabolism'},\n",
       " 'P03886': {'Complex I biogenesis',\n",
       "  'Metabolism',\n",
       "  'Respiratory electron transport',\n",
       "  'Respiratory electron transport, ATP synthesis by chemiosmotic coupling, and heat production by uncoupling proteins.',\n",
       "  'The citric acid (TCA) cycle and respiratory electron transport'},\n",
       " 'P03901': set(),\n",
       " 'P03905': {'Complex I biogenesis',\n",
       "  'Metabolism',\n",
       "  'Respiratory electron transport',\n",
       "  'Respiratory electron transport, ATP synthesis by chemiosmotic coupling, and heat production by uncoupling proteins.',\n",
       "  'The citric acid (TCA) cycle and respiratory electron transport'},\n",
       " 'P03915': {'Complex I biogenesis',\n",
       "  'Metabolism',\n",
       "  'Respiratory electron transport',\n",
       "  'Respiratory electron transport, ATP synthesis by chemiosmotic coupling, and heat production by uncoupling proteins.',\n",
       "  'The citric acid (TCA) cycle and respiratory electron transport'},\n",
       " 'P03923': {'Complex I biogenesis',\n",
       "  'Metabolism',\n",
       "  'Respiratory electron transport',\n",
       "  'Respiratory electron transport, ATP synthesis by chemiosmotic coupling, and heat production by uncoupling proteins.',\n",
       "  'The citric acid (TCA) cycle and respiratory electron transport'},\n",
       " 'P49590': {'Metabolism of proteins',\n",
       "  'Mitochondrial tRNA aminoacylation',\n",
       "  'Translation',\n",
       "  'tRNA Aminoacylation'},\n",
       " 'Q16611': set(),\n",
       " 'Q16795': {'Complex I biogenesis',\n",
       "  'Metabolism',\n",
       "  'Respiratory electron transport',\n",
       "  'Respiratory electron transport, ATP synthesis by chemiosmotic coupling, and heat production by uncoupling proteins.',\n",
       "  'The citric acid (TCA) cycle and respiratory electron transport'},\n",
       " 'Q8NBN7': set(),\n",
       " 'Q8WWV3': set(),\n",
       " 'Q9H300': set(),\n",
       " 'Q9HD33': {'Metabolism of proteins', 'Translation'},\n",
       " 'Q9NX14': {'Complex I biogenesis',\n",
       "  'Metabolism',\n",
       "  'Respiratory electron transport',\n",
       "  'Respiratory electron transport, ATP synthesis by chemiosmotic coupling, and heat production by uncoupling proteins.',\n",
       "  'The citric acid (TCA) cycle and respiratory electron transport'},\n",
       " 'Q9Y2Z4': {'Metabolism of proteins',\n",
       "  'Mitochondrial tRNA aminoacylation',\n",
       "  'Translation',\n",
       "  'tRNA Aminoacylation'}}"
      ]
     },
     "execution_count": 14,
     "metadata": {},
     "output_type": "execute_result"
    }
   ],
   "source": [
    "common_pathway_cluster1"
   ]
  },
  {
   "cell_type": "markdown",
   "metadata": {},
   "source": [
    "### Cluster 2 Leigh, KSS, PEO, AD"
   ]
  },
  {
   "cell_type": "code",
   "execution_count": 27,
   "metadata": {
    "scrolled": true
   },
   "outputs": [
    {
     "data": {
      "image/png": "[encoded data removed]",
      "text/plain": [
       "<Figure size 432x288 with 2 Axes>"
      ]
     },
     "metadata": {},
     "output_type": "display_data"
    }
   ],
   "source": [
    "# Leigh, KSS, PEO, AD cluster\n",
    "cluster2 = ['P20674','P10176','P36551','P00414']\n",
    "\n",
    "pathway_cluster2 = {}\n",
    "\n",
    "#or find a way to return all the indices where a protein exists\n",
    "\n",
    "for ID in cluster2:\n",
    "    pw_list = []\n",
    "    for i in range(0,len(pathways)):\n",
    "        if(ID == pathways['protein'][i]):\n",
    "            pw_list.append(pathways['name'][i])\n",
    "    pathway_cluster2[ID] = pw_list\n",
    "\n",
    "#OUTPUT: pathway_cluster2 is a dictionary of ProteinID:[pathway,...]\n",
    "\n",
    "common_pathway_cluster2 = {}  #Stores ProteinID:[common pathway shared by 1+ other protein,...]\n",
    "all_common_pathways2 = set()  #Set of all pathways among all proteins\n",
    "\n",
    "for ID,pws in pathway_cluster2.items():\n",
    "    \n",
    "    # Collect pathways of all other proteins\n",
    "    other_pws = set()\n",
    "    for ID2,pws2 in pathway_cluster2.items():\n",
    "        if(ID2 != ID):\n",
    "            for pw2 in pws2:\n",
    "                other_pws.add(pw2)\n",
    "    \n",
    "    # Find the pathways shared between current protein and 1+ other protein(s)\n",
    "    common_pws = []\n",
    "    for pw in pws:\n",
    "        if(pw in other_pws):\n",
    "            common_pws.append(pw)\n",
    "    common_pathway_cluster2[ID] = set(common_pws)\n",
    "\n",
    "    # Add to a set of any pathway that involves at least 2 of these proteins\n",
    "    all_common_pathways2 = all_common_pathways2.union(set(common_pws))\n",
    "    \n",
    "    \n",
    "\n",
    "# Make the dataframe and plot it as a binary heatmap \n",
    "df1 = pd.DataFrame(columns = list(all_common_pathways2))\n",
    "#df1.rename(columns = {'Respiratory electron transport, ATP synthesis by chemiosmotic coupling, and heat production by uncoupling proteins.': 'RET, ATP syn by CC, HP by UP','The citric acid (TCA) cycle and respiratory electron transport': 'TCA and RET','Mitochondrial tRNA aminoacylation': 'Mito. tRNA aminoacylation'}, inplace = True)\n",
    "\n",
    "for ID,PWS in pathway_cluster2.items():\n",
    "    row = {}    \n",
    "    for pw in df1.columns:\n",
    "        if(pw in PWS): row.update({pw: 1.0})\n",
    "        else: row.update({pw: 0.0})\n",
    "    df1 = df1.append(row, ignore_index = True)\n",
    "df1\n",
    "df1.index = pathway_cluster2\n",
    "hm = sns.heatmap(df1, cmap = 'Reds', linewidths=.1, linecolor='black')"
   ]
  },
  {
   "cell_type": "code",
   "execution_count": 198,
   "metadata": {
    "scrolled": true
   },
   "outputs": [
    {
     "data": {
      "text/plain": [
       "{'P00414': {'Cellular response to chemical stress',\n",
       "  'Cellular responses to stimuli',\n",
       "  'Cellular responses to stress',\n",
       "  'Cytoprotection by HMOX1',\n",
       "  'Gene expression (Transcription)',\n",
       "  'Generic Transcription Pathway',\n",
       "  'Metabolism',\n",
       "  'RNA Polymerase II Transcription',\n",
       "  'Respiratory electron transport',\n",
       "  'Respiratory electron transport, ATP synthesis by chemiosmotic coupling, and heat production by uncoupling proteins.',\n",
       "  'TP53 Regulates Metabolic Genes',\n",
       "  'The citric acid (TCA) cycle and respiratory electron transport',\n",
       "  'Transcriptional Regulation by TP53'},\n",
       " 'P10176': {'Cellular response to chemical stress',\n",
       "  'Cellular responses to stimuli',\n",
       "  'Cellular responses to stress',\n",
       "  'Cytoprotection by HMOX1',\n",
       "  'Gene expression (Transcription)',\n",
       "  'Generic Transcription Pathway',\n",
       "  'Metabolism',\n",
       "  'RNA Polymerase II Transcription',\n",
       "  'Respiratory electron transport',\n",
       "  'Respiratory electron transport, ATP synthesis by chemiosmotic coupling, and heat production by uncoupling proteins.',\n",
       "  'TP53 Regulates Metabolic Genes',\n",
       "  'The citric acid (TCA) cycle and respiratory electron transport',\n",
       "  'Transcriptional Regulation by TP53'},\n",
       " 'P20674': {'Cellular response to chemical stress',\n",
       "  'Cellular responses to stimuli',\n",
       "  'Cellular responses to stress',\n",
       "  'Cytoprotection by HMOX1',\n",
       "  'Gene expression (Transcription)',\n",
       "  'Generic Transcription Pathway',\n",
       "  'Metabolism',\n",
       "  'RNA Polymerase II Transcription',\n",
       "  'Respiratory electron transport',\n",
       "  'Respiratory electron transport, ATP synthesis by chemiosmotic coupling, and heat production by uncoupling proteins.',\n",
       "  'TP53 Regulates Metabolic Genes',\n",
       "  'The citric acid (TCA) cycle and respiratory electron transport',\n",
       "  'Transcriptional Regulation by TP53'},\n",
       " 'P36551': {'Metabolism'}}"
      ]
     },
     "execution_count": 198,
     "metadata": {},
     "output_type": "execute_result"
    }
   ],
   "source": [
    "common_pathway_cluster2"
   ]
  },
  {
   "cell_type": "markdown",
   "metadata": {},
   "source": [
    "### Cluster 3 ADOA (all 5); LHON, Leigh, MS, HSP (1 & 3); PEO, Parkin, ALS, AD, Epil (3), Schiz (2,3), WD (2)  (CLUSTER)"
   ]
  },
  {
   "cell_type": "code",
   "execution_count": 5,
   "metadata": {
    "scrolled": true
   },
   "outputs": [
    {
     "ename": "ValueError",
     "evalue": "zero-size array to reduction operation minimum which has no identity",
     "output_type": "error",
     "traceback": [
      "\u001b[0;31m---------------------------------------------------------------------------\u001b[0m",
      "\u001b[0;31mValueError\u001b[0m                                Traceback (most recent call last)",
      "\u001b[0;32m<ipython-input-5-e62f99a28eb9>\u001b[0m in \u001b[0;36m<module>\u001b[0;34m()\u001b[0m\n\u001b[1;32m     48\u001b[0m \u001b[0mdf1\u001b[0m\u001b[0;34m\u001b[0m\u001b[0m\n\u001b[1;32m     49\u001b[0m \u001b[0mdf1\u001b[0m\u001b[0;34m.\u001b[0m\u001b[0mindex\u001b[0m \u001b[0;34m=\u001b[0m \u001b[0mpathway_cluster3\u001b[0m\u001b[0;34m\u001b[0m\u001b[0m\n\u001b[0;32m---> 50\u001b[0;31m \u001b[0mhm\u001b[0m \u001b[0;34m=\u001b[0m \u001b[0msns\u001b[0m\u001b[0;34m.\u001b[0m\u001b[0mheatmap\u001b[0m\u001b[0;34m(\u001b[0m\u001b[0mdf1\u001b[0m\u001b[0;34m,\u001b[0m \u001b[0mcmap\u001b[0m \u001b[0;34m=\u001b[0m \u001b[0;34m'Reds'\u001b[0m\u001b[0;34m,\u001b[0m \u001b[0mlinewidths\u001b[0m\u001b[0;34m=\u001b[0m\u001b[0;36m.1\u001b[0m\u001b[0;34m,\u001b[0m \u001b[0mlinecolor\u001b[0m\u001b[0;34m=\u001b[0m\u001b[0;34m'black'\u001b[0m\u001b[0;34m)\u001b[0m\u001b[0;34m\u001b[0m\u001b[0m\n\u001b[0m",
      "\u001b[0;32m~/anaconda3/envs/caseolap/lib/python3.6/site-packages/seaborn/matrix.py\u001b[0m in \u001b[0;36mheatmap\u001b[0;34m(data, vmin, vmax, cmap, center, robust, annot, fmt, annot_kws, linewidths, linecolor, cbar, cbar_kws, cbar_ax, square, xticklabels, yticklabels, mask, ax, **kwargs)\u001b[0m\n\u001b[1;32m    515\u001b[0m     plotter = _HeatMapper(data, vmin, vmax, cmap, center, robust, annot, fmt,\n\u001b[1;32m    516\u001b[0m                           \u001b[0mannot_kws\u001b[0m\u001b[0;34m,\u001b[0m \u001b[0mcbar\u001b[0m\u001b[0;34m,\u001b[0m \u001b[0mcbar_kws\u001b[0m\u001b[0;34m,\u001b[0m \u001b[0mxticklabels\u001b[0m\u001b[0;34m,\u001b[0m\u001b[0;34m\u001b[0m\u001b[0m\n\u001b[0;32m--> 517\u001b[0;31m                           yticklabels, mask)\n\u001b[0m\u001b[1;32m    518\u001b[0m \u001b[0;34m\u001b[0m\u001b[0m\n\u001b[1;32m    519\u001b[0m     \u001b[0;31m# Add the pcolormesh kwargs here\u001b[0m\u001b[0;34m\u001b[0m\u001b[0;34m\u001b[0m\u001b[0m\n",
      "\u001b[0;32m~/anaconda3/envs/caseolap/lib/python3.6/site-packages/seaborn/matrix.py\u001b[0m in \u001b[0;36m__init__\u001b[0;34m(self, data, vmin, vmax, cmap, center, robust, annot, fmt, annot_kws, cbar, cbar_kws, xticklabels, yticklabels, mask)\u001b[0m\n\u001b[1;32m    165\u001b[0m         \u001b[0;31m# Determine good default values for the colormapping\u001b[0m\u001b[0;34m\u001b[0m\u001b[0;34m\u001b[0m\u001b[0m\n\u001b[1;32m    166\u001b[0m         self._determine_cmap_params(plot_data, vmin, vmax,\n\u001b[0;32m--> 167\u001b[0;31m                                     cmap, center, robust)\n\u001b[0m\u001b[1;32m    168\u001b[0m \u001b[0;34m\u001b[0m\u001b[0m\n\u001b[1;32m    169\u001b[0m         \u001b[0;31m# Sort out the annotations\u001b[0m\u001b[0;34m\u001b[0m\u001b[0;34m\u001b[0m\u001b[0m\n",
      "\u001b[0;32m~/anaconda3/envs/caseolap/lib/python3.6/site-packages/seaborn/matrix.py\u001b[0m in \u001b[0;36m_determine_cmap_params\u001b[0;34m(self, plot_data, vmin, vmax, cmap, center, robust)\u001b[0m\n\u001b[1;32m    204\u001b[0m         \u001b[0mcalc_data\u001b[0m \u001b[0;34m=\u001b[0m \u001b[0mplot_data\u001b[0m\u001b[0;34m.\u001b[0m\u001b[0mdata\u001b[0m\u001b[0;34m[\u001b[0m\u001b[0;34m~\u001b[0m\u001b[0mnp\u001b[0m\u001b[0;34m.\u001b[0m\u001b[0misnan\u001b[0m\u001b[0;34m(\u001b[0m\u001b[0mplot_data\u001b[0m\u001b[0;34m.\u001b[0m\u001b[0mdata\u001b[0m\u001b[0;34m)\u001b[0m\u001b[0;34m]\u001b[0m\u001b[0;34m\u001b[0m\u001b[0m\n\u001b[1;32m    205\u001b[0m         \u001b[0;32mif\u001b[0m \u001b[0mvmin\u001b[0m \u001b[0;32mis\u001b[0m \u001b[0;32mNone\u001b[0m\u001b[0;34m:\u001b[0m\u001b[0;34m\u001b[0m\u001b[0m\n\u001b[0;32m--> 206\u001b[0;31m             \u001b[0mvmin\u001b[0m \u001b[0;34m=\u001b[0m \u001b[0mnp\u001b[0m\u001b[0;34m.\u001b[0m\u001b[0mpercentile\u001b[0m\u001b[0;34m(\u001b[0m\u001b[0mcalc_data\u001b[0m\u001b[0;34m,\u001b[0m \u001b[0;36m2\u001b[0m\u001b[0;34m)\u001b[0m \u001b[0;32mif\u001b[0m \u001b[0mrobust\u001b[0m \u001b[0;32melse\u001b[0m \u001b[0mcalc_data\u001b[0m\u001b[0;34m.\u001b[0m\u001b[0mmin\u001b[0m\u001b[0;34m(\u001b[0m\u001b[0;34m)\u001b[0m\u001b[0;34m\u001b[0m\u001b[0m\n\u001b[0m\u001b[1;32m    207\u001b[0m         \u001b[0;32mif\u001b[0m \u001b[0mvmax\u001b[0m \u001b[0;32mis\u001b[0m \u001b[0;32mNone\u001b[0m\u001b[0;34m:\u001b[0m\u001b[0;34m\u001b[0m\u001b[0m\n\u001b[1;32m    208\u001b[0m             \u001b[0mvmax\u001b[0m \u001b[0;34m=\u001b[0m \u001b[0mnp\u001b[0m\u001b[0;34m.\u001b[0m\u001b[0mpercentile\u001b[0m\u001b[0;34m(\u001b[0m\u001b[0mcalc_data\u001b[0m\u001b[0;34m,\u001b[0m \u001b[0;36m98\u001b[0m\u001b[0;34m)\u001b[0m \u001b[0;32mif\u001b[0m \u001b[0mrobust\u001b[0m \u001b[0;32melse\u001b[0m \u001b[0mcalc_data\u001b[0m\u001b[0;34m.\u001b[0m\u001b[0mmax\u001b[0m\u001b[0;34m(\u001b[0m\u001b[0;34m)\u001b[0m\u001b[0;34m\u001b[0m\u001b[0m\n",
      "\u001b[0;32m~/anaconda3/envs/caseolap/lib/python3.6/site-packages/numpy/core/_methods.py\u001b[0m in \u001b[0;36m_amin\u001b[0;34m(a, axis, out, keepdims, initial)\u001b[0m\n\u001b[1;32m     30\u001b[0m def _amin(a, axis=None, out=None, keepdims=False,\n\u001b[1;32m     31\u001b[0m           initial=_NoValue):\n\u001b[0;32m---> 32\u001b[0;31m     \u001b[0;32mreturn\u001b[0m \u001b[0mumr_minimum\u001b[0m\u001b[0;34m(\u001b[0m\u001b[0ma\u001b[0m\u001b[0;34m,\u001b[0m \u001b[0maxis\u001b[0m\u001b[0;34m,\u001b[0m \u001b[0;32mNone\u001b[0m\u001b[0;34m,\u001b[0m \u001b[0mout\u001b[0m\u001b[0;34m,\u001b[0m \u001b[0mkeepdims\u001b[0m\u001b[0;34m,\u001b[0m \u001b[0minitial\u001b[0m\u001b[0;34m)\u001b[0m\u001b[0;34m\u001b[0m\u001b[0m\n\u001b[0m\u001b[1;32m     33\u001b[0m \u001b[0;34m\u001b[0m\u001b[0m\n\u001b[1;32m     34\u001b[0m def _sum(a, axis=None, dtype=None, out=None, keepdims=False,\n",
      "\u001b[0;31mValueError\u001b[0m: zero-size array to reduction operation minimum which has no identity"
     ]
    }
   ],
   "source": [
    "# Leigh, KSS, PEO, AD cluster\n",
    "cluster3 = ['Q9H6K4','Q04837','O60313','O43169','Q9H061']\n",
    "\n",
    "pathway_cluster3 = {}\n",
    "\n",
    "#or find a way to return all the indices where a protein exists\n",
    "\n",
    "for ID in cluster3:\n",
    "    pw_list = []\n",
    "    for i in range(0,len(pathways)):\n",
    "        if(ID == pathways['protein'][i]):\n",
    "            pw_list.append(pathways['name'][i])\n",
    "    pathway_cluster3[ID] = pw_list\n",
    "\n",
    "#OUTPUT: pathway_cluster3 is a dictionary of ProteinID:[pathway,...]\n",
    "\n",
    "common_pathway_cluster3 = {}  #Stores ProteinID:[common pathway shared by 1+ other protein,...]\n",
    "all_common_pathways1 = set()  #Set of all pathways among all proteins\n",
    "\n",
    "for ID,pws in pathway_cluster3.items():\n",
    "    \n",
    "    # Collect pathways of all other proteins\n",
    "    other_pws = set()\n",
    "    for ID2,pws2 in pathway_cluster3.items():\n",
    "        if(ID2 != ID):\n",
    "            for pw2 in pws2:\n",
    "                other_pws.add(pw2)\n",
    "    \n",
    "    # Find the pathways shared between current protein and 1+ other protein(s)\n",
    "    common_pws = []\n",
    "    for pw in pws:\n",
    "        if(pw in other_pws):\n",
    "            common_pws.append(pw)\n",
    "    common_pathway_cluster3[ID] = set(common_pws)\n",
    "\n",
    "    # Add to a set of any pathway that involves at least 2 of these proteins\n",
    "    all_common_pathways1 = all_common_pathways1.union(set(common_pws))\n",
    "    \n",
    "# Make the dataframe and plot it as a binary heatmap \n",
    "df1 = pd.DataFrame(columns = list(all_common_pathways1))\n",
    "\n",
    "for ID,PWS in pathway_cluster3.items():\n",
    "    row = {}    \n",
    "    for pw in df1.columns:\n",
    "        if(pw in PWS): row.update({pw: 1.0})\n",
    "        else: row.update({pw: 0.0})\n",
    "    df1 = df1.append(row, ignore_index = True)\n",
    "df1\n",
    "df1.index = pathway_cluster3\n",
    "hm = sns.heatmap(df1, cmap = 'Reds', linewidths=.1, linecolor='black')"
   ]
  },
  {
   "cell_type": "code",
   "execution_count": 6,
   "metadata": {
    "scrolled": true
   },
   "outputs": [
    {
     "data": {
      "text/plain": [
       "{'O43169': set(),\n",
       " 'O60313': set(),\n",
       " 'Q04837': set(),\n",
       " 'Q9H061': set(),\n",
       " 'Q9H6K4': set()}"
      ]
     },
     "execution_count": 6,
     "metadata": {},
     "output_type": "execute_result"
    }
   ],
   "source": [
    "common_pathway_cluster3"
   ]
  },
  {
   "cell_type": "markdown",
   "metadata": {},
   "source": [
    "### Cluster 4 KSS (all 8); MELAS, Leigh, PEO (1, 6-8), ; (Weaker cluster)"
   ]
  },
  {
   "cell_type": "code",
   "execution_count": 37,
   "metadata": {
    "scrolled": false
   },
   "outputs": [
    {
     "data": {
      "image/png": "[encoded data removed]",
      "text/plain": [
       "<Figure size 432x288 with 2 Axes>"
      ]
     },
     "metadata": {},
     "output_type": "display_data"
    }
   ],
   "source": [
    "# Leigh, KSS, PEO, AD cluster\n",
    "cluster4 = ['P00156','Q9H0U6','O95168','P12694','Q8NI60','P31040','P21912','Q9UDR5']\n",
    "\n",
    "\n",
    "pathway_cluster4 = {}\n",
    "\n",
    "#or find a way to return all the indices where a protein exists\n",
    "\n",
    "for ID in cluster4:\n",
    "    pw_list = []\n",
    "    for i in range(0,len(pathways)):\n",
    "        if(ID == pathways['protein'][i]):\n",
    "            pw_list.append(pathways['name'][i])\n",
    "    pathway_cluster4[ID] = pw_list\n",
    "\n",
    "#OUTPUT: pathway_cluster4 is a dictionary of ProteinID:[pathway,...]\n",
    "\n",
    "common_pathway_cluster4 = {}  #Stores ProteinID:[common pathway shared by 1+ other protein,...]\n",
    "all_common_pathways1 = set()  #Set of all pathways among all proteins\n",
    "\n",
    "for ID,pws in pathway_cluster4.items():\n",
    "    \n",
    "    # Collect pathways of all other proteins\n",
    "    other_pws = set()\n",
    "    for ID2,pws2 in pathway_cluster4.items():\n",
    "        if(ID2 != ID):\n",
    "            for pw2 in pws2:\n",
    "                other_pws.add(pw2)\n",
    "    \n",
    "    # Find the pathways shared between current protein and 1+ other protein(s)\n",
    "    common_pws = []\n",
    "    for pw in pws:\n",
    "        if(pw in other_pws):\n",
    "            common_pws.append(pw)\n",
    "    common_pathway_cluster4[ID] = set(common_pws)\n",
    "\n",
    "    # Add to a set of any pathway that involves at least 2 of these proteins\n",
    "    all_common_pathways1 = all_common_pathways1.union(set(common_pws))\n",
    "    \n",
    "# Make the dataframe and plot it as a binary heatmap \n",
    "df1 = pd.DataFrame(columns = list(all_common_pathways1))\n",
    "#df1.rename(columns = {'Pyruvate metabolism and Citric Acid (TCA) cycle': 'Pyruvate metabolism and TCA','The citric acid (TCA) cycle and respiratory electron transport':'TCA and RET','Respiratory electron transport, ATP synthesis by chemiosmotic coupling, and heat production by uncoupling proteins.': 'RET, ATP syn by CC, HP by UP',}, inplace = True)\n",
    "\n",
    "for ID,PWS in pathway_cluster4.items():\n",
    "    row = {}    \n",
    "    for pw in df1.columns:\n",
    "        if(pw in PWS): row.update({pw: 1.0})\n",
    "        else: row.update({pw: 0.0})\n",
    "    df1 = df1.append(row, ignore_index = True)\n",
    "df1\n",
    "df1.index = pathway_cluster4\n",
    "hm = sns.heatmap(df1, cmap = 'Reds', linewidths=.1, linecolor='black')"
   ]
  },
  {
   "cell_type": "code",
   "execution_count": 188,
   "metadata": {
    "scrolled": true
   },
   "outputs": [
    {
     "data": {
      "text/plain": [
       "{'O95168': {'Metabolism',\n",
       "  'Respiratory electron transport',\n",
       "  'Respiratory electron transport, ATP synthesis by chemiosmotic coupling, and heat production by uncoupling proteins.',\n",
       "  'The citric acid (TCA) cycle and respiratory electron transport'},\n",
       " 'P00156': {'Metabolism',\n",
       "  'Respiratory electron transport',\n",
       "  'Respiratory electron transport, ATP synthesis by chemiosmotic coupling, and heat production by uncoupling proteins.',\n",
       "  'The citric acid (TCA) cycle and respiratory electron transport'},\n",
       " 'P12694': {'Metabolism', 'Metabolism of amino acids and derivatives'},\n",
       " 'P21912': {'Citric acid cycle (TCA cycle)',\n",
       "  'Metabolism',\n",
       "  'Pyruvate metabolism and Citric Acid (TCA) cycle',\n",
       "  'Respiratory electron transport',\n",
       "  'Respiratory electron transport, ATP synthesis by chemiosmotic coupling, and heat production by uncoupling proteins.',\n",
       "  'The citric acid (TCA) cycle and respiratory electron transport'},\n",
       " 'P31040': {'Citric acid cycle (TCA cycle)',\n",
       "  'Metabolism',\n",
       "  'Pyruvate metabolism and Citric Acid (TCA) cycle',\n",
       "  'Respiratory electron transport',\n",
       "  'Respiratory electron transport, ATP synthesis by chemiosmotic coupling, and heat production by uncoupling proteins.',\n",
       "  'The citric acid (TCA) cycle and respiratory electron transport'},\n",
       " 'Q8NI60': set(),\n",
       " 'Q9H0U6': set(),\n",
       " 'Q9UDR5': {'Metabolism', 'Metabolism of amino acids and derivatives'}}"
      ]
     },
     "execution_count": 188,
     "metadata": {},
     "output_type": "execute_result"
    }
   ],
   "source": [
    "common_pathway_cluster4"
   ]
  },
  {
   "cell_type": "markdown",
   "metadata": {},
   "source": [
    "### Cluster 5 \n",
    "A large swath of similarity for MS, Parkin, ALS, AD, Epil, Schiz across a wide array of mitochondrial proteins. In the spots where there are zero CaseOLAP scores in one disease this section but not in the others, this may indicate that the protein is but has not yet been discovered to be relevant to this disease process. (Proteins in rows 147-333)\n",
    "One of the highest scoring clustered proteins here are below (highest in AD and Parkin)."
   ]
  },
  {
   "cell_type": "code",
   "execution_count": 29,
   "metadata": {
    "scrolled": true
   },
   "outputs": [
    {
     "data": {
      "image/png": "[encoded data removed]",
      "text/plain": [
       "<Figure size 432x288 with 2 Axes>"
      ]
     },
     "metadata": {},
     "output_type": "display_data"
    }
   ],
   "source": [
    "# Leigh, KSS, PEO, AD cluster\n",
    "cluster5 = ['P10415','Q07812','Q9Y2S7','P42574']\n",
    "\n",
    "\n",
    "pathway_cluster5 = {}\n",
    "\n",
    "#or find a way to return all the indices where a protein exists\n",
    "\n",
    "for ID in cluster5:\n",
    "    pw_list = []\n",
    "    for i in range(0,len(pathways)):\n",
    "        if(ID == pathways['protein'][i]):\n",
    "            pw_list.append(pathways['name'][i])\n",
    "    pathway_cluster5[ID] = pw_list\n",
    "\n",
    "#OUTPUT: pathway_cluster5 is a dictionary of ProteinID:[pathway,...]\n",
    "\n",
    "common_pathway_cluster5 = {}  #Stores ProteinID:[common pathway shared by 1+ other protein,...]\n",
    "all_common_pathways1 = set()  #Set of all pathways among all proteins\n",
    "\n",
    "for ID,pws in pathway_cluster5.items():\n",
    "    \n",
    "    # Collect pathways of all other proteins\n",
    "    other_pws = set()\n",
    "    for ID2,pws2 in pathway_cluster5.items():\n",
    "        if(ID2 != ID):\n",
    "            for pw2 in pws2:\n",
    "                other_pws.add(pw2)\n",
    "    \n",
    "    # Find the pathways shared between current protein and 1+ other protein(s)\n",
    "    common_pws = []\n",
    "    for pw in pws:\n",
    "        if(pw in other_pws):\n",
    "            common_pws.append(pw)\n",
    "    common_pathway_cluster5[ID] = set(common_pws)\n",
    "\n",
    "    # Add to a set of any pathway that involves at least 2 of these proteins\n",
    "    all_common_pathways1 = all_common_pathways1.union(set(common_pws))\n",
    "    \n",
    "# Make the dataframe and plot it as a binary heatmap \n",
    "df1 = pd.DataFrame(columns = list(all_common_pathways1))\n",
    "\n",
    "for ID,PWS in pathway_cluster5.items():\n",
    "    row = {}    \n",
    "    for pw in df1.columns:\n",
    "        if(pw in PWS): row.update({pw: 1.0})\n",
    "        else: row.update({pw: 0.0})\n",
    "    df1 = df1.append(row, ignore_index = True)\n",
    "df1\n",
    "df1.index = pathway_cluster5\n",
    "hm = sns.heatmap(df1, cmap = 'Reds', linewidths=.1, linecolor='black')"
   ]
  },
  {
   "cell_type": "code",
   "execution_count": 190,
   "metadata": {
    "scrolled": false
   },
   "outputs": [
    {
     "data": {
      "text/plain": [
       "{'P10415': {'Apoptosis',\n",
       "  'Cytokine Signaling in Immune system',\n",
       "  'Immune System',\n",
       "  'Intrinsic Pathway for Apoptosis',\n",
       "  'Programmed Cell Death',\n",
       "  'Signal Transduction',\n",
       "  'Signaling by Interleukins'},\n",
       " 'P42574': {'Apoptosis',\n",
       "  'Apoptotic factor-mediated response',\n",
       "  'Cytokine Signaling in Immune system',\n",
       "  'Immune System',\n",
       "  'Intrinsic Pathway for Apoptosis',\n",
       "  'Programmed Cell Death',\n",
       "  'Pyroptosis',\n",
       "  'Regulated Necrosis',\n",
       "  'Signal Transduction',\n",
       "  'Signaling by Interleukins'},\n",
       " 'Q07812': {'Apoptosis',\n",
       "  'Apoptotic factor-mediated response',\n",
       "  'Intrinsic Pathway for Apoptosis',\n",
       "  'Programmed Cell Death',\n",
       "  'Pyroptosis',\n",
       "  'Regulated Necrosis',\n",
       "  'Signal Transduction'},\n",
       " 'Q9Y2S7': set()}"
      ]
     },
     "execution_count": 190,
     "metadata": {},
     "output_type": "execute_result"
    }
   ],
   "source": [
    "common_pathway_cluster5"
   ]
  },
  {
   "cell_type": "markdown",
   "metadata": {},
   "source": [
    "### Cluster 6\n",
    "Schiz, Epil, AD (all), Parkin (last 3) (strongish cluster)"
   ]
  },
  {
   "cell_type": "code",
   "execution_count": 191,
   "metadata": {
    "scrolled": true
   },
   "outputs": [
    {
     "data": {
      "image/png": "[encoded data removed]",
      "text/plain": [
       "<Figure size 432x288 with 2 Axes>"
      ]
     },
     "metadata": {},
     "output_type": "display_data"
    }
   ],
   "source": [
    "# Leigh, KSS, PEO, AD cluster\n",
    "cluster6 = ['Q8IVH4','Q9UF12','Q8N3J5','O43272','O15229','Q13423','Q8WUD6']\n",
    "\n",
    "\n",
    "pathway_cluster6 = {}\n",
    "\n",
    "#or find a way to return all the indices where a protein exists\n",
    "\n",
    "for ID in cluster6:\n",
    "    pw_list = []\n",
    "    for i in range(0,len(pathways)):\n",
    "        if(ID == pathways['protein'][i]):\n",
    "            pw_list.append(pathways['name'][i])\n",
    "    pathway_cluster6[ID] = pw_list\n",
    "\n",
    "#OUTPUT: pathway_cluster6 is a dictionary of ProteinID:[pathway,...]\n",
    "\n",
    "common_pathway_cluster6 = {}  #Stores ProteinID:[common pathway shared by 1+ other protein,...]\n",
    "all_common_pathways1 = set()  #Set of all pathways among all proteins\n",
    "\n",
    "for ID,pws in pathway_cluster6.items():\n",
    "    \n",
    "    # Collect pathways of all other proteins\n",
    "    other_pws = set()\n",
    "    for ID2,pws2 in pathway_cluster6.items():\n",
    "        if(ID2 != ID):\n",
    "            for pw2 in pws2:\n",
    "                other_pws.add(pw2)\n",
    "    \n",
    "    # Find the pathways shared between current protein and 1+ other protein(s)\n",
    "    common_pws = []\n",
    "    for pw in pws:\n",
    "        if(pw in other_pws):\n",
    "            common_pws.append(pw)\n",
    "    common_pathway_cluster6[ID] = set(common_pws)\n",
    "\n",
    "    # Add to a set of any pathway that involves at least 2 of these proteins\n",
    "    all_common_pathways1 = all_common_pathways1.union(set(common_pws))\n",
    "    \n",
    "# Make the dataframe and plot it as a binary heatmap \n",
    "df1 = pd.DataFrame(columns = list(all_common_pathways1))\n",
    "\n",
    "for ID,PWS in pathway_cluster6.items():\n",
    "    row = {}    \n",
    "    for pw in df1.columns:\n",
    "        if(pw in PWS): row.update({pw: 1.0})\n",
    "        else: row.update({pw: 0.0})\n",
    "    df1 = df1.append(row, ignore_index = True)\n",
    "df1\n",
    "df1.index = pathway_cluster6\n",
    "hm = sns.heatmap(df1, cmap = 'Reds', linewidths=.1, linecolor='black')"
   ]
  },
  {
   "cell_type": "code",
   "execution_count": 193,
   "metadata": {
    "scrolled": true
   },
   "outputs": [
    {
     "data": {
      "text/plain": [
       "{'O15229': {'Metabolism', 'Metabolism of amino acids and derivatives'},\n",
       " 'O43272': {'Metabolism',\n",
       "  'Metabolism of amino acids and derivatives',\n",
       "  'Proline catabolism'},\n",
       " 'Q13423': {'Metabolism'},\n",
       " 'Q8IVH4': {'Metabolism', 'Metabolism of lipids'},\n",
       " 'Q8N3J5': {'Metabolism', 'Metabolism of amino acids and derivatives'},\n",
       " 'Q8WUD6': {'Metabolism', 'Metabolism of lipids'},\n",
       " 'Q9UF12': {'Metabolism',\n",
       "  'Metabolism of amino acids and derivatives',\n",
       "  'Proline catabolism'}}"
      ]
     },
     "execution_count": 193,
     "metadata": {},
     "output_type": "execute_result"
    }
   ],
   "source": [
    "common_pathway_cluster6"
   ]
  },
  {
   "cell_type": "markdown",
   "metadata": {},
   "source": [
    "### Clear Graph Database (When Needed!)"
   ]
  },
  {
   "cell_type": "markdown",
   "metadata": {},
   "source": [
    "- Conform APOC is available"
   ]
  },
  {
   "cell_type": "code",
   "execution_count": null,
   "metadata": {},
   "outputs": [],
   "source": [
    "CALL dbms.procedures()\n",
    "YIELD name WHERE name STARTS WITH \"apoc\"\n",
    "RETURN name"
   ]
  },
  {
   "cell_type": "markdown",
   "metadata": {},
   "source": [
    "- Clear database"
   ]
  },
  {
   "cell_type": "code",
   "execution_count": null,
   "metadata": {},
   "outputs": [],
   "source": [
    "// Delete all constraints and indexes\n",
    "CALL apoc.schema.assert({},{},true);\n",
    "// Delete all nodes and relationships\n",
    "CALL apoc.periodic.iterate('MATCH (n) RETURN n','DETACH DELETE n',{batchSize:500})"
   ]
  }
 ],
 "metadata": {
  "kernelspec": {
   "display_name": "Python 3",
   "language": "python",
   "name": "python3"
  },
  "language_info": {
   "codemirror_mode": {
    "name": "ipython",
    "version": 3
   },
   "file_extension": ".py",
   "mimetype": "text/x-python",
   "name": "python",
   "nbconvert_exporter": "python",
   "pygments_lexer": "ipython3",
   "version": "3.6.6"
  }
 },
 "nbformat": 4,
 "nbformat_minor": 2
}
